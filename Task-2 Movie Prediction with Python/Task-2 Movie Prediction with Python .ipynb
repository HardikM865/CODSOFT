{
 "cells": [
  {
   "cell_type": "code",
   "execution_count": 65,
   "id": "33936134-6060-43e7-9d63-7d401fad9e2c",
   "metadata": {},
   "outputs": [],
   "source": [
    "#pip install wordcloud\n"
   ]
  },
  {
   "cell_type": "code",
   "execution_count": 66,
   "id": "c407dd80",
   "metadata": {},
   "outputs": [],
   "source": [
    "import numpy as np\n",
    "import pandas as pd\n",
    "import seaborn as sb\n",
    "import plotly.express as px\n",
    "import matplotlib.pyplot as mpl\n",
    "from wordcloud import WordCloud\n",
    "from sklearn.model_selection import train_test_split"
   ]
  },
  {
   "cell_type": "code",
   "execution_count": 67,
   "id": "bb3c6bc4",
   "metadata": {},
   "outputs": [],
   "source": [
    "movie_file = pd.read_csv('movies.csv', encoding='latin1')"
   ]
  },
  {
   "cell_type": "code",
   "execution_count": 68,
   "id": "38b61b4d",
   "metadata": {},
   "outputs": [
    {
     "data": {
      "text/html": [
       "<div>\n",
       "<style scoped>\n",
       "    .dataframe tbody tr th:only-of-type {\n",
       "        vertical-align: middle;\n",
       "    }\n",
       "\n",
       "    .dataframe tbody tr th {\n",
       "        vertical-align: top;\n",
       "    }\n",
       "\n",
       "    .dataframe thead th {\n",
       "        text-align: right;\n",
       "    }\n",
       "</style>\n",
       "<table border=\"1\" class=\"dataframe\">\n",
       "  <thead>\n",
       "    <tr style=\"text-align: right;\">\n",
       "      <th></th>\n",
       "      <th>Name</th>\n",
       "      <th>Year</th>\n",
       "      <th>Duration</th>\n",
       "      <th>Genre</th>\n",
       "      <th>Rating</th>\n",
       "      <th>Votes</th>\n",
       "      <th>Director</th>\n",
       "      <th>Actor 1</th>\n",
       "      <th>Actor 2</th>\n",
       "      <th>Actor 3</th>\n",
       "    </tr>\n",
       "  </thead>\n",
       "  <tbody>\n",
       "    <tr>\n",
       "      <th>0</th>\n",
       "      <td></td>\n",
       "      <td>NaN</td>\n",
       "      <td>NaN</td>\n",
       "      <td>Drama</td>\n",
       "      <td>NaN</td>\n",
       "      <td>NaN</td>\n",
       "      <td>J.S. Randhawa</td>\n",
       "      <td>Manmauji</td>\n",
       "      <td>Birbal</td>\n",
       "      <td>Rajendra Bhatia</td>\n",
       "    </tr>\n",
       "    <tr>\n",
       "      <th>1</th>\n",
       "      <td>#Gadhvi (He thought he was Gandhi)</td>\n",
       "      <td>(2019)</td>\n",
       "      <td>109 min</td>\n",
       "      <td>Drama</td>\n",
       "      <td>7.0</td>\n",
       "      <td>8</td>\n",
       "      <td>Gaurav Bakshi</td>\n",
       "      <td>Rasika Dugal</td>\n",
       "      <td>Vivek Ghamande</td>\n",
       "      <td>Arvind Jangid</td>\n",
       "    </tr>\n",
       "    <tr>\n",
       "      <th>2</th>\n",
       "      <td>#Homecoming</td>\n",
       "      <td>(2021)</td>\n",
       "      <td>90 min</td>\n",
       "      <td>Drama, Musical</td>\n",
       "      <td>NaN</td>\n",
       "      <td>NaN</td>\n",
       "      <td>Soumyajit Majumdar</td>\n",
       "      <td>Sayani Gupta</td>\n",
       "      <td>Plabita Borthakur</td>\n",
       "      <td>Roy Angana</td>\n",
       "    </tr>\n",
       "    <tr>\n",
       "      <th>3</th>\n",
       "      <td>#Yaaram</td>\n",
       "      <td>(2019)</td>\n",
       "      <td>110 min</td>\n",
       "      <td>Comedy, Romance</td>\n",
       "      <td>4.4</td>\n",
       "      <td>35</td>\n",
       "      <td>Ovais Khan</td>\n",
       "      <td>Prateik</td>\n",
       "      <td>Ishita Raj</td>\n",
       "      <td>Siddhant Kapoor</td>\n",
       "    </tr>\n",
       "    <tr>\n",
       "      <th>4</th>\n",
       "      <td>...And Once Again</td>\n",
       "      <td>(2010)</td>\n",
       "      <td>105 min</td>\n",
       "      <td>Drama</td>\n",
       "      <td>NaN</td>\n",
       "      <td>NaN</td>\n",
       "      <td>Amol Palekar</td>\n",
       "      <td>Rajat Kapoor</td>\n",
       "      <td>Rituparna Sengupta</td>\n",
       "      <td>Antara Mali</td>\n",
       "    </tr>\n",
       "    <tr>\n",
       "      <th>...</th>\n",
       "      <td>...</td>\n",
       "      <td>...</td>\n",
       "      <td>...</td>\n",
       "      <td>...</td>\n",
       "      <td>...</td>\n",
       "      <td>...</td>\n",
       "      <td>...</td>\n",
       "      <td>...</td>\n",
       "      <td>...</td>\n",
       "      <td>...</td>\n",
       "    </tr>\n",
       "    <tr>\n",
       "      <th>15504</th>\n",
       "      <td>Zulm Ko Jala Doonga</td>\n",
       "      <td>(1988)</td>\n",
       "      <td>NaN</td>\n",
       "      <td>Action</td>\n",
       "      <td>4.6</td>\n",
       "      <td>11</td>\n",
       "      <td>Mahendra Shah</td>\n",
       "      <td>Naseeruddin Shah</td>\n",
       "      <td>Sumeet Saigal</td>\n",
       "      <td>Suparna Anand</td>\n",
       "    </tr>\n",
       "    <tr>\n",
       "      <th>15505</th>\n",
       "      <td>Zulmi</td>\n",
       "      <td>(1999)</td>\n",
       "      <td>129 min</td>\n",
       "      <td>Action, Drama</td>\n",
       "      <td>4.5</td>\n",
       "      <td>655</td>\n",
       "      <td>Kuku Kohli</td>\n",
       "      <td>Akshay Kumar</td>\n",
       "      <td>Twinkle Khanna</td>\n",
       "      <td>Aruna Irani</td>\n",
       "    </tr>\n",
       "    <tr>\n",
       "      <th>15506</th>\n",
       "      <td>Zulmi Raj</td>\n",
       "      <td>(2005)</td>\n",
       "      <td>NaN</td>\n",
       "      <td>Action</td>\n",
       "      <td>NaN</td>\n",
       "      <td>NaN</td>\n",
       "      <td>Kiran Thej</td>\n",
       "      <td>Sangeeta Tiwari</td>\n",
       "      <td>NaN</td>\n",
       "      <td>NaN</td>\n",
       "    </tr>\n",
       "    <tr>\n",
       "      <th>15507</th>\n",
       "      <td>Zulmi Shikari</td>\n",
       "      <td>(1988)</td>\n",
       "      <td>NaN</td>\n",
       "      <td>Action</td>\n",
       "      <td>NaN</td>\n",
       "      <td>NaN</td>\n",
       "      <td>NaN</td>\n",
       "      <td>NaN</td>\n",
       "      <td>NaN</td>\n",
       "      <td>NaN</td>\n",
       "    </tr>\n",
       "    <tr>\n",
       "      <th>15508</th>\n",
       "      <td>Zulm-O-Sitam</td>\n",
       "      <td>(1998)</td>\n",
       "      <td>130 min</td>\n",
       "      <td>Action, Drama</td>\n",
       "      <td>6.2</td>\n",
       "      <td>20</td>\n",
       "      <td>K.C. Bokadia</td>\n",
       "      <td>Dharmendra</td>\n",
       "      <td>Jaya Prada</td>\n",
       "      <td>Arjun Sarja</td>\n",
       "    </tr>\n",
       "  </tbody>\n",
       "</table>\n",
       "<p>15509 rows × 10 columns</p>\n",
       "</div>"
      ],
      "text/plain": [
       "                                     Name    Year Duration            Genre  \\\n",
       "0                                             NaN      NaN            Drama   \n",
       "1      #Gadhvi (He thought he was Gandhi)  (2019)  109 min            Drama   \n",
       "2                             #Homecoming  (2021)   90 min   Drama, Musical   \n",
       "3                                 #Yaaram  (2019)  110 min  Comedy, Romance   \n",
       "4                       ...And Once Again  (2010)  105 min            Drama   \n",
       "...                                   ...     ...      ...              ...   \n",
       "15504                 Zulm Ko Jala Doonga  (1988)      NaN           Action   \n",
       "15505                               Zulmi  (1999)  129 min    Action, Drama   \n",
       "15506                           Zulmi Raj  (2005)      NaN           Action   \n",
       "15507                       Zulmi Shikari  (1988)      NaN           Action   \n",
       "15508                        Zulm-O-Sitam  (1998)  130 min    Action, Drama   \n",
       "\n",
       "       Rating Votes            Director           Actor 1             Actor 2  \\\n",
       "0         NaN   NaN       J.S. Randhawa          Manmauji              Birbal   \n",
       "1         7.0     8       Gaurav Bakshi      Rasika Dugal      Vivek Ghamande   \n",
       "2         NaN   NaN  Soumyajit Majumdar      Sayani Gupta   Plabita Borthakur   \n",
       "3         4.4    35          Ovais Khan           Prateik          Ishita Raj   \n",
       "4         NaN   NaN        Amol Palekar      Rajat Kapoor  Rituparna Sengupta   \n",
       "...       ...   ...                 ...               ...                 ...   \n",
       "15504     4.6    11       Mahendra Shah  Naseeruddin Shah       Sumeet Saigal   \n",
       "15505     4.5   655          Kuku Kohli      Akshay Kumar      Twinkle Khanna   \n",
       "15506     NaN   NaN          Kiran Thej   Sangeeta Tiwari                 NaN   \n",
       "15507     NaN   NaN                 NaN               NaN                 NaN   \n",
       "15508     6.2    20        K.C. Bokadia        Dharmendra          Jaya Prada   \n",
       "\n",
       "               Actor 3  \n",
       "0      Rajendra Bhatia  \n",
       "1        Arvind Jangid  \n",
       "2           Roy Angana  \n",
       "3      Siddhant Kapoor  \n",
       "4          Antara Mali  \n",
       "...                ...  \n",
       "15504    Suparna Anand  \n",
       "15505      Aruna Irani  \n",
       "15506              NaN  \n",
       "15507              NaN  \n",
       "15508      Arjun Sarja  \n",
       "\n",
       "[15509 rows x 10 columns]"
      ]
     },
     "execution_count": 68,
     "metadata": {},
     "output_type": "execute_result"
    }
   ],
   "source": [
    "movie_file"
   ]
  },
  {
   "cell_type": "code",
   "execution_count": 69,
   "id": "2a471a65",
   "metadata": {},
   "outputs": [
    {
     "data": {
      "text/html": [
       "<div>\n",
       "<style scoped>\n",
       "    .dataframe tbody tr th:only-of-type {\n",
       "        vertical-align: middle;\n",
       "    }\n",
       "\n",
       "    .dataframe tbody tr th {\n",
       "        vertical-align: top;\n",
       "    }\n",
       "\n",
       "    .dataframe thead th {\n",
       "        text-align: right;\n",
       "    }\n",
       "</style>\n",
       "<table border=\"1\" class=\"dataframe\">\n",
       "  <thead>\n",
       "    <tr style=\"text-align: right;\">\n",
       "      <th></th>\n",
       "      <th>Name</th>\n",
       "      <th>Year</th>\n",
       "      <th>Duration</th>\n",
       "      <th>Genre</th>\n",
       "      <th>Rating</th>\n",
       "      <th>Votes</th>\n",
       "      <th>Director</th>\n",
       "      <th>Actor 1</th>\n",
       "      <th>Actor 2</th>\n",
       "      <th>Actor 3</th>\n",
       "    </tr>\n",
       "  </thead>\n",
       "  <tbody>\n",
       "    <tr>\n",
       "      <th>0</th>\n",
       "      <td></td>\n",
       "      <td>NaN</td>\n",
       "      <td>NaN</td>\n",
       "      <td>Drama</td>\n",
       "      <td>NaN</td>\n",
       "      <td>NaN</td>\n",
       "      <td>J.S. Randhawa</td>\n",
       "      <td>Manmauji</td>\n",
       "      <td>Birbal</td>\n",
       "      <td>Rajendra Bhatia</td>\n",
       "    </tr>\n",
       "    <tr>\n",
       "      <th>1</th>\n",
       "      <td>#Gadhvi (He thought he was Gandhi)</td>\n",
       "      <td>(2019)</td>\n",
       "      <td>109 min</td>\n",
       "      <td>Drama</td>\n",
       "      <td>7.0</td>\n",
       "      <td>8</td>\n",
       "      <td>Gaurav Bakshi</td>\n",
       "      <td>Rasika Dugal</td>\n",
       "      <td>Vivek Ghamande</td>\n",
       "      <td>Arvind Jangid</td>\n",
       "    </tr>\n",
       "    <tr>\n",
       "      <th>2</th>\n",
       "      <td>#Homecoming</td>\n",
       "      <td>(2021)</td>\n",
       "      <td>90 min</td>\n",
       "      <td>Drama, Musical</td>\n",
       "      <td>NaN</td>\n",
       "      <td>NaN</td>\n",
       "      <td>Soumyajit Majumdar</td>\n",
       "      <td>Sayani Gupta</td>\n",
       "      <td>Plabita Borthakur</td>\n",
       "      <td>Roy Angana</td>\n",
       "    </tr>\n",
       "    <tr>\n",
       "      <th>3</th>\n",
       "      <td>#Yaaram</td>\n",
       "      <td>(2019)</td>\n",
       "      <td>110 min</td>\n",
       "      <td>Comedy, Romance</td>\n",
       "      <td>4.4</td>\n",
       "      <td>35</td>\n",
       "      <td>Ovais Khan</td>\n",
       "      <td>Prateik</td>\n",
       "      <td>Ishita Raj</td>\n",
       "      <td>Siddhant Kapoor</td>\n",
       "    </tr>\n",
       "    <tr>\n",
       "      <th>4</th>\n",
       "      <td>...And Once Again</td>\n",
       "      <td>(2010)</td>\n",
       "      <td>105 min</td>\n",
       "      <td>Drama</td>\n",
       "      <td>NaN</td>\n",
       "      <td>NaN</td>\n",
       "      <td>Amol Palekar</td>\n",
       "      <td>Rajat Kapoor</td>\n",
       "      <td>Rituparna Sengupta</td>\n",
       "      <td>Antara Mali</td>\n",
       "    </tr>\n",
       "    <tr>\n",
       "      <th>5</th>\n",
       "      <td>...Aur Pyaar Ho Gaya</td>\n",
       "      <td>(1997)</td>\n",
       "      <td>147 min</td>\n",
       "      <td>Comedy, Drama, Musical</td>\n",
       "      <td>4.7</td>\n",
       "      <td>827</td>\n",
       "      <td>Rahul Rawail</td>\n",
       "      <td>Bobby Deol</td>\n",
       "      <td>Aishwarya Rai Bachchan</td>\n",
       "      <td>Shammi Kapoor</td>\n",
       "    </tr>\n",
       "    <tr>\n",
       "      <th>6</th>\n",
       "      <td>...Yahaan</td>\n",
       "      <td>(2005)</td>\n",
       "      <td>142 min</td>\n",
       "      <td>Drama, Romance, War</td>\n",
       "      <td>7.4</td>\n",
       "      <td>1,086</td>\n",
       "      <td>Shoojit Sircar</td>\n",
       "      <td>Jimmy Sheirgill</td>\n",
       "      <td>Minissha Lamba</td>\n",
       "      <td>Yashpal Sharma</td>\n",
       "    </tr>\n",
       "    <tr>\n",
       "      <th>7</th>\n",
       "      <td>.in for Motion</td>\n",
       "      <td>(2008)</td>\n",
       "      <td>59 min</td>\n",
       "      <td>Documentary</td>\n",
       "      <td>NaN</td>\n",
       "      <td>NaN</td>\n",
       "      <td>Anirban Datta</td>\n",
       "      <td>NaN</td>\n",
       "      <td>NaN</td>\n",
       "      <td>NaN</td>\n",
       "    </tr>\n",
       "    <tr>\n",
       "      <th>8</th>\n",
       "      <td>?: A Question Mark</td>\n",
       "      <td>(2012)</td>\n",
       "      <td>82 min</td>\n",
       "      <td>Horror, Mystery, Thriller</td>\n",
       "      <td>5.6</td>\n",
       "      <td>326</td>\n",
       "      <td>Allyson Patel</td>\n",
       "      <td>Yash Dave</td>\n",
       "      <td>Muntazir Ahmad</td>\n",
       "      <td>Kiran Bhatia</td>\n",
       "    </tr>\n",
       "    <tr>\n",
       "      <th>9</th>\n",
       "      <td>@Andheri</td>\n",
       "      <td>(2014)</td>\n",
       "      <td>116 min</td>\n",
       "      <td>Action, Crime, Thriller</td>\n",
       "      <td>4.0</td>\n",
       "      <td>11</td>\n",
       "      <td>Biju Bhaskar Nair</td>\n",
       "      <td>Augustine</td>\n",
       "      <td>Fathima Babu</td>\n",
       "      <td>Byon</td>\n",
       "    </tr>\n",
       "    <tr>\n",
       "      <th>10</th>\n",
       "      <td>1:1.6 An Ode to Lost Love</td>\n",
       "      <td>(2004)</td>\n",
       "      <td>96 min</td>\n",
       "      <td>Drama</td>\n",
       "      <td>6.2</td>\n",
       "      <td>17</td>\n",
       "      <td>Madhu Ambat</td>\n",
       "      <td>Rati Agnihotri</td>\n",
       "      <td>Gulshan Grover</td>\n",
       "      <td>Atul Kulkarni</td>\n",
       "    </tr>\n",
       "  </tbody>\n",
       "</table>\n",
       "</div>"
      ],
      "text/plain": [
       "                                  Name    Year Duration  \\\n",
       "0                                          NaN      NaN   \n",
       "1   #Gadhvi (He thought he was Gandhi)  (2019)  109 min   \n",
       "2                          #Homecoming  (2021)   90 min   \n",
       "3                              #Yaaram  (2019)  110 min   \n",
       "4                    ...And Once Again  (2010)  105 min   \n",
       "5                 ...Aur Pyaar Ho Gaya  (1997)  147 min   \n",
       "6                            ...Yahaan  (2005)  142 min   \n",
       "7                       .in for Motion  (2008)   59 min   \n",
       "8                   ?: A Question Mark  (2012)   82 min   \n",
       "9                             @Andheri  (2014)  116 min   \n",
       "10           1:1.6 An Ode to Lost Love  (2004)   96 min   \n",
       "\n",
       "                        Genre  Rating  Votes            Director  \\\n",
       "0                       Drama     NaN    NaN       J.S. Randhawa   \n",
       "1                       Drama     7.0      8       Gaurav Bakshi   \n",
       "2              Drama, Musical     NaN    NaN  Soumyajit Majumdar   \n",
       "3             Comedy, Romance     4.4     35          Ovais Khan   \n",
       "4                       Drama     NaN    NaN        Amol Palekar   \n",
       "5      Comedy, Drama, Musical     4.7    827        Rahul Rawail   \n",
       "6         Drama, Romance, War     7.4  1,086      Shoojit Sircar   \n",
       "7                 Documentary     NaN    NaN       Anirban Datta   \n",
       "8   Horror, Mystery, Thriller     5.6    326       Allyson Patel   \n",
       "9     Action, Crime, Thriller     4.0     11   Biju Bhaskar Nair   \n",
       "10                      Drama     6.2     17         Madhu Ambat   \n",
       "\n",
       "            Actor 1                 Actor 2          Actor 3  \n",
       "0          Manmauji                  Birbal  Rajendra Bhatia  \n",
       "1      Rasika Dugal          Vivek Ghamande    Arvind Jangid  \n",
       "2      Sayani Gupta       Plabita Borthakur       Roy Angana  \n",
       "3           Prateik              Ishita Raj  Siddhant Kapoor  \n",
       "4      Rajat Kapoor      Rituparna Sengupta      Antara Mali  \n",
       "5        Bobby Deol  Aishwarya Rai Bachchan    Shammi Kapoor  \n",
       "6   Jimmy Sheirgill          Minissha Lamba   Yashpal Sharma  \n",
       "7               NaN                     NaN              NaN  \n",
       "8         Yash Dave          Muntazir Ahmad     Kiran Bhatia  \n",
       "9         Augustine            Fathima Babu             Byon  \n",
       "10   Rati Agnihotri          Gulshan Grover    Atul Kulkarni  "
      ]
     },
     "execution_count": 69,
     "metadata": {},
     "output_type": "execute_result"
    }
   ],
   "source": [
    "movie_file.head(11)"
   ]
  },
  {
   "cell_type": "code",
   "execution_count": 70,
   "id": "34e808c0",
   "metadata": {},
   "outputs": [
    {
     "data": {
      "text/html": [
       "<div>\n",
       "<style scoped>\n",
       "    .dataframe tbody tr th:only-of-type {\n",
       "        vertical-align: middle;\n",
       "    }\n",
       "\n",
       "    .dataframe tbody tr th {\n",
       "        vertical-align: top;\n",
       "    }\n",
       "\n",
       "    .dataframe thead th {\n",
       "        text-align: right;\n",
       "    }\n",
       "</style>\n",
       "<table border=\"1\" class=\"dataframe\">\n",
       "  <thead>\n",
       "    <tr style=\"text-align: right;\">\n",
       "      <th></th>\n",
       "      <th>Rating</th>\n",
       "    </tr>\n",
       "  </thead>\n",
       "  <tbody>\n",
       "    <tr>\n",
       "      <th>count</th>\n",
       "      <td>7919.000000</td>\n",
       "    </tr>\n",
       "    <tr>\n",
       "      <th>mean</th>\n",
       "      <td>5.841621</td>\n",
       "    </tr>\n",
       "    <tr>\n",
       "      <th>std</th>\n",
       "      <td>1.381777</td>\n",
       "    </tr>\n",
       "    <tr>\n",
       "      <th>min</th>\n",
       "      <td>1.100000</td>\n",
       "    </tr>\n",
       "    <tr>\n",
       "      <th>25%</th>\n",
       "      <td>4.900000</td>\n",
       "    </tr>\n",
       "    <tr>\n",
       "      <th>50%</th>\n",
       "      <td>6.000000</td>\n",
       "    </tr>\n",
       "    <tr>\n",
       "      <th>75%</th>\n",
       "      <td>6.800000</td>\n",
       "    </tr>\n",
       "    <tr>\n",
       "      <th>max</th>\n",
       "      <td>10.000000</td>\n",
       "    </tr>\n",
       "  </tbody>\n",
       "</table>\n",
       "</div>"
      ],
      "text/plain": [
       "            Rating\n",
       "count  7919.000000\n",
       "mean      5.841621\n",
       "std       1.381777\n",
       "min       1.100000\n",
       "25%       4.900000\n",
       "50%       6.000000\n",
       "75%       6.800000\n",
       "max      10.000000"
      ]
     },
     "execution_count": 70,
     "metadata": {},
     "output_type": "execute_result"
    }
   ],
   "source": [
    "movie_file.describe()"
   ]
  },
  {
   "cell_type": "code",
   "execution_count": 71,
   "id": "b67dc9ae",
   "metadata": {},
   "outputs": [
    {
     "data": {
      "text/plain": [
       "Name         object\n",
       "Year         object\n",
       "Duration     object\n",
       "Genre        object\n",
       "Rating      float64\n",
       "Votes        object\n",
       "Director     object\n",
       "Actor 1      object\n",
       "Actor 2      object\n",
       "Actor 3      object\n",
       "dtype: object"
      ]
     },
     "execution_count": 71,
     "metadata": {},
     "output_type": "execute_result"
    }
   ],
   "source": [
    "movie_file.dtypes"
   ]
  },
  {
   "cell_type": "code",
   "execution_count": 72,
   "id": "cfe3132c",
   "metadata": {},
   "outputs": [
    {
     "data": {
      "text/plain": [
       "Name           0\n",
       "Year         528\n",
       "Duration    8269\n",
       "Genre       1877\n",
       "Rating      7590\n",
       "Votes       7589\n",
       "Director     525\n",
       "Actor 1     1617\n",
       "Actor 2     2384\n",
       "Actor 3     3144\n",
       "dtype: int64"
      ]
     },
     "execution_count": 72,
     "metadata": {},
     "output_type": "execute_result"
    }
   ],
   "source": [
    "movie_file.isnull().sum()"
   ]
  },
  {
   "cell_type": "code",
   "execution_count": 73,
   "id": "66ed9116",
   "metadata": {},
   "outputs": [
    {
     "data": {
      "text/plain": [
       "33523"
      ]
     },
     "execution_count": 73,
     "metadata": {},
     "output_type": "execute_result"
    }
   ],
   "source": [
    "movie_file.isnull().sum().sum()"
   ]
  },
  {
   "cell_type": "code",
   "execution_count": 74,
   "id": "c2661ee4",
   "metadata": {},
   "outputs": [
    {
     "data": {
      "text/plain": [
       "(15509, 10)"
      ]
     },
     "execution_count": 74,
     "metadata": {},
     "output_type": "execute_result"
    }
   ],
   "source": [
    "movie_file.shape"
   ]
  },
  {
   "cell_type": "code",
   "execution_count": 75,
   "id": "5bd3ffdb",
   "metadata": {},
   "outputs": [],
   "source": [
    "movie_file.dropna(inplace = True)"
   ]
  },
  {
   "cell_type": "code",
   "execution_count": 76,
   "id": "83cc63a5",
   "metadata": {},
   "outputs": [
    {
     "data": {
      "text/html": [
       "<div>\n",
       "<style scoped>\n",
       "    .dataframe tbody tr th:only-of-type {\n",
       "        vertical-align: middle;\n",
       "    }\n",
       "\n",
       "    .dataframe tbody tr th {\n",
       "        vertical-align: top;\n",
       "    }\n",
       "\n",
       "    .dataframe thead th {\n",
       "        text-align: right;\n",
       "    }\n",
       "</style>\n",
       "<table border=\"1\" class=\"dataframe\">\n",
       "  <thead>\n",
       "    <tr style=\"text-align: right;\">\n",
       "      <th></th>\n",
       "      <th>Name</th>\n",
       "      <th>Year</th>\n",
       "      <th>Duration</th>\n",
       "      <th>Genre</th>\n",
       "      <th>Rating</th>\n",
       "      <th>Votes</th>\n",
       "      <th>Director</th>\n",
       "      <th>Actor 1</th>\n",
       "      <th>Actor 2</th>\n",
       "      <th>Actor 3</th>\n",
       "    </tr>\n",
       "  </thead>\n",
       "  <tbody>\n",
       "    <tr>\n",
       "      <th>1</th>\n",
       "      <td>#Gadhvi (He thought he was Gandhi)</td>\n",
       "      <td>(2019)</td>\n",
       "      <td>109 min</td>\n",
       "      <td>Drama</td>\n",
       "      <td>7.0</td>\n",
       "      <td>8</td>\n",
       "      <td>Gaurav Bakshi</td>\n",
       "      <td>Rasika Dugal</td>\n",
       "      <td>Vivek Ghamande</td>\n",
       "      <td>Arvind Jangid</td>\n",
       "    </tr>\n",
       "    <tr>\n",
       "      <th>3</th>\n",
       "      <td>#Yaaram</td>\n",
       "      <td>(2019)</td>\n",
       "      <td>110 min</td>\n",
       "      <td>Comedy, Romance</td>\n",
       "      <td>4.4</td>\n",
       "      <td>35</td>\n",
       "      <td>Ovais Khan</td>\n",
       "      <td>Prateik</td>\n",
       "      <td>Ishita Raj</td>\n",
       "      <td>Siddhant Kapoor</td>\n",
       "    </tr>\n",
       "    <tr>\n",
       "      <th>5</th>\n",
       "      <td>...Aur Pyaar Ho Gaya</td>\n",
       "      <td>(1997)</td>\n",
       "      <td>147 min</td>\n",
       "      <td>Comedy, Drama, Musical</td>\n",
       "      <td>4.7</td>\n",
       "      <td>827</td>\n",
       "      <td>Rahul Rawail</td>\n",
       "      <td>Bobby Deol</td>\n",
       "      <td>Aishwarya Rai Bachchan</td>\n",
       "      <td>Shammi Kapoor</td>\n",
       "    </tr>\n",
       "    <tr>\n",
       "      <th>6</th>\n",
       "      <td>...Yahaan</td>\n",
       "      <td>(2005)</td>\n",
       "      <td>142 min</td>\n",
       "      <td>Drama, Romance, War</td>\n",
       "      <td>7.4</td>\n",
       "      <td>1,086</td>\n",
       "      <td>Shoojit Sircar</td>\n",
       "      <td>Jimmy Sheirgill</td>\n",
       "      <td>Minissha Lamba</td>\n",
       "      <td>Yashpal Sharma</td>\n",
       "    </tr>\n",
       "    <tr>\n",
       "      <th>8</th>\n",
       "      <td>?: A Question Mark</td>\n",
       "      <td>(2012)</td>\n",
       "      <td>82 min</td>\n",
       "      <td>Horror, Mystery, Thriller</td>\n",
       "      <td>5.6</td>\n",
       "      <td>326</td>\n",
       "      <td>Allyson Patel</td>\n",
       "      <td>Yash Dave</td>\n",
       "      <td>Muntazir Ahmad</td>\n",
       "      <td>Kiran Bhatia</td>\n",
       "    </tr>\n",
       "    <tr>\n",
       "      <th>9</th>\n",
       "      <td>@Andheri</td>\n",
       "      <td>(2014)</td>\n",
       "      <td>116 min</td>\n",
       "      <td>Action, Crime, Thriller</td>\n",
       "      <td>4.0</td>\n",
       "      <td>11</td>\n",
       "      <td>Biju Bhaskar Nair</td>\n",
       "      <td>Augustine</td>\n",
       "      <td>Fathima Babu</td>\n",
       "      <td>Byon</td>\n",
       "    </tr>\n",
       "    <tr>\n",
       "      <th>10</th>\n",
       "      <td>1:1.6 An Ode to Lost Love</td>\n",
       "      <td>(2004)</td>\n",
       "      <td>96 min</td>\n",
       "      <td>Drama</td>\n",
       "      <td>6.2</td>\n",
       "      <td>17</td>\n",
       "      <td>Madhu Ambat</td>\n",
       "      <td>Rati Agnihotri</td>\n",
       "      <td>Gulshan Grover</td>\n",
       "      <td>Atul Kulkarni</td>\n",
       "    </tr>\n",
       "    <tr>\n",
       "      <th>11</th>\n",
       "      <td>1:13:7 Ek Tera Saath</td>\n",
       "      <td>(2016)</td>\n",
       "      <td>120 min</td>\n",
       "      <td>Horror</td>\n",
       "      <td>5.9</td>\n",
       "      <td>59</td>\n",
       "      <td>Arshad Siddiqui</td>\n",
       "      <td>Pankaj Berry</td>\n",
       "      <td>Anubhav Dhir</td>\n",
       "      <td>Hritu Dudani</td>\n",
       "    </tr>\n",
       "    <tr>\n",
       "      <th>12</th>\n",
       "      <td>100 Days</td>\n",
       "      <td>(1991)</td>\n",
       "      <td>161 min</td>\n",
       "      <td>Horror, Romance, Thriller</td>\n",
       "      <td>6.5</td>\n",
       "      <td>983</td>\n",
       "      <td>Partho Ghosh</td>\n",
       "      <td>Jackie Shroff</td>\n",
       "      <td>Madhuri Dixit</td>\n",
       "      <td>Javed Jaffrey</td>\n",
       "    </tr>\n",
       "    <tr>\n",
       "      <th>13</th>\n",
       "      <td>100% Love</td>\n",
       "      <td>(2012)</td>\n",
       "      <td>166 min</td>\n",
       "      <td>Comedy, Drama, Romance</td>\n",
       "      <td>5.7</td>\n",
       "      <td>512</td>\n",
       "      <td>Rabi Kinagi</td>\n",
       "      <td>Jeet</td>\n",
       "      <td>Koyel Mallick</td>\n",
       "      <td>Sujoy Ghosh</td>\n",
       "    </tr>\n",
       "    <tr>\n",
       "      <th>15</th>\n",
       "      <td>102 Not Out</td>\n",
       "      <td>(2018)</td>\n",
       "      <td>102 min</td>\n",
       "      <td>Comedy, Drama</td>\n",
       "      <td>7.4</td>\n",
       "      <td>6,619</td>\n",
       "      <td>Umesh Shukla</td>\n",
       "      <td>Amitabh Bachchan</td>\n",
       "      <td>Rishi Kapoor</td>\n",
       "      <td>Vijay Raaz</td>\n",
       "    </tr>\n",
       "  </tbody>\n",
       "</table>\n",
       "</div>"
      ],
      "text/plain": [
       "                                  Name    Year Duration  \\\n",
       "1   #Gadhvi (He thought he was Gandhi)  (2019)  109 min   \n",
       "3                              #Yaaram  (2019)  110 min   \n",
       "5                 ...Aur Pyaar Ho Gaya  (1997)  147 min   \n",
       "6                            ...Yahaan  (2005)  142 min   \n",
       "8                   ?: A Question Mark  (2012)   82 min   \n",
       "9                             @Andheri  (2014)  116 min   \n",
       "10           1:1.6 An Ode to Lost Love  (2004)   96 min   \n",
       "11                1:13:7 Ek Tera Saath  (2016)  120 min   \n",
       "12                            100 Days  (1991)  161 min   \n",
       "13                           100% Love  (2012)  166 min   \n",
       "15                         102 Not Out  (2018)  102 min   \n",
       "\n",
       "                        Genre  Rating  Votes           Director  \\\n",
       "1                       Drama     7.0      8      Gaurav Bakshi   \n",
       "3             Comedy, Romance     4.4     35         Ovais Khan   \n",
       "5      Comedy, Drama, Musical     4.7    827       Rahul Rawail   \n",
       "6         Drama, Romance, War     7.4  1,086     Shoojit Sircar   \n",
       "8   Horror, Mystery, Thriller     5.6    326      Allyson Patel   \n",
       "9     Action, Crime, Thriller     4.0     11  Biju Bhaskar Nair   \n",
       "10                      Drama     6.2     17        Madhu Ambat   \n",
       "11                     Horror     5.9     59    Arshad Siddiqui   \n",
       "12  Horror, Romance, Thriller     6.5    983       Partho Ghosh   \n",
       "13     Comedy, Drama, Romance     5.7    512        Rabi Kinagi   \n",
       "15              Comedy, Drama     7.4  6,619       Umesh Shukla   \n",
       "\n",
       "             Actor 1                 Actor 2          Actor 3  \n",
       "1       Rasika Dugal          Vivek Ghamande    Arvind Jangid  \n",
       "3            Prateik              Ishita Raj  Siddhant Kapoor  \n",
       "5         Bobby Deol  Aishwarya Rai Bachchan    Shammi Kapoor  \n",
       "6    Jimmy Sheirgill          Minissha Lamba   Yashpal Sharma  \n",
       "8          Yash Dave          Muntazir Ahmad     Kiran Bhatia  \n",
       "9          Augustine            Fathima Babu             Byon  \n",
       "10    Rati Agnihotri          Gulshan Grover    Atul Kulkarni  \n",
       "11      Pankaj Berry            Anubhav Dhir     Hritu Dudani  \n",
       "12     Jackie Shroff           Madhuri Dixit    Javed Jaffrey  \n",
       "13              Jeet           Koyel Mallick      Sujoy Ghosh  \n",
       "15  Amitabh Bachchan            Rishi Kapoor       Vijay Raaz  "
      ]
     },
     "execution_count": 76,
     "metadata": {},
     "output_type": "execute_result"
    }
   ],
   "source": [
    "movie_file.head(11)"
   ]
  },
  {
   "cell_type": "code",
   "execution_count": 77,
   "id": "0b1f0132",
   "metadata": {},
   "outputs": [
    {
     "data": {
      "text/plain": [
       "Name        0\n",
       "Year        0\n",
       "Duration    0\n",
       "Genre       0\n",
       "Rating      0\n",
       "Votes       0\n",
       "Director    0\n",
       "Actor 1     0\n",
       "Actor 2     0\n",
       "Actor 3     0\n",
       "dtype: int64"
      ]
     },
     "execution_count": 77,
     "metadata": {},
     "output_type": "execute_result"
    }
   ],
   "source": [
    "movie_file.isnull().sum()"
   ]
  },
  {
   "cell_type": "code",
   "execution_count": 78,
   "id": "eb952b19",
   "metadata": {},
   "outputs": [
    {
     "data": {
      "text/plain": [
       "0"
      ]
     },
     "execution_count": 78,
     "metadata": {},
     "output_type": "execute_result"
    }
   ],
   "source": [
    "movie_file.isnull().sum().sum()"
   ]
  },
  {
   "cell_type": "code",
   "execution_count": 79,
   "id": "2b503efb",
   "metadata": {},
   "outputs": [
    {
     "data": {
      "text/plain": [
       "(5659, 10)"
      ]
     },
     "execution_count": 79,
     "metadata": {},
     "output_type": "execute_result"
    }
   ],
   "source": [
    "movie_file.shape"
   ]
  },
  {
   "cell_type": "code",
   "execution_count": 80,
   "id": "d8129efe",
   "metadata": {},
   "outputs": [],
   "source": [
    "movie_file['Duration'] = movie_file['Duration'].str.extract('(\\d+)')\n",
    "movie_file['Duration'] = pd.to_numeric(movie_file['Duration'], errors='coerce')"
   ]
  },
  {
   "cell_type": "code",
   "execution_count": 81,
   "id": "676babdb",
   "metadata": {},
   "outputs": [
    {
     "data": {
      "text/plain": [
       "1    (2019)\n",
       "3    (2019)\n",
       "5    (1997)\n",
       "6    (2005)\n",
       "8    (2012)\n",
       "Name: Year, dtype: object"
      ]
     },
     "execution_count": 81,
     "metadata": {},
     "output_type": "execute_result"
    }
   ],
   "source": [
    "movie_file[\"Year\"].head()"
   ]
  },
  {
   "cell_type": "code",
   "execution_count": 82,
   "id": "0c03c589",
   "metadata": {},
   "outputs": [],
   "source": [
    "genre = movie_file['Genre']"
   ]
  },
  {
   "cell_type": "code",
   "execution_count": 83,
   "id": "02adaa50",
   "metadata": {},
   "outputs": [
    {
     "data": {
      "text/plain": [
       "1                         Drama\n",
       "3               Comedy, Romance\n",
       "5        Comedy, Drama, Musical\n",
       "6           Drama, Romance, War\n",
       "8     Horror, Mystery, Thriller\n",
       "9       Action, Crime, Thriller\n",
       "10                        Drama\n",
       "11                       Horror\n",
       "12    Horror, Romance, Thriller\n",
       "13       Comedy, Drama, Romance\n",
       "15                Comedy, Drama\n",
       "Name: Genre, dtype: object"
      ]
     },
     "execution_count": 83,
     "metadata": {},
     "output_type": "execute_result"
    }
   ],
   "source": [
    "genre.head(11)"
   ]
  },
  {
   "cell_type": "code",
   "execution_count": 84,
   "id": "ed6bdd82",
   "metadata": {},
   "outputs": [],
   "source": [
    "genres = movie_file['Genre'].str.split(', ', expand=True)"
   ]
  },
  {
   "cell_type": "code",
   "execution_count": 85,
   "id": "129e5b83",
   "metadata": {},
   "outputs": [
    {
     "data": {
      "text/html": [
       "<div>\n",
       "<style scoped>\n",
       "    .dataframe tbody tr th:only-of-type {\n",
       "        vertical-align: middle;\n",
       "    }\n",
       "\n",
       "    .dataframe tbody tr th {\n",
       "        vertical-align: top;\n",
       "    }\n",
       "\n",
       "    .dataframe thead th {\n",
       "        text-align: right;\n",
       "    }\n",
       "</style>\n",
       "<table border=\"1\" class=\"dataframe\">\n",
       "  <thead>\n",
       "    <tr style=\"text-align: right;\">\n",
       "      <th></th>\n",
       "      <th>0</th>\n",
       "      <th>1</th>\n",
       "      <th>2</th>\n",
       "    </tr>\n",
       "  </thead>\n",
       "  <tbody>\n",
       "    <tr>\n",
       "      <th>1</th>\n",
       "      <td>Drama</td>\n",
       "      <td>None</td>\n",
       "      <td>None</td>\n",
       "    </tr>\n",
       "    <tr>\n",
       "      <th>3</th>\n",
       "      <td>Comedy</td>\n",
       "      <td>Romance</td>\n",
       "      <td>None</td>\n",
       "    </tr>\n",
       "    <tr>\n",
       "      <th>5</th>\n",
       "      <td>Comedy</td>\n",
       "      <td>Drama</td>\n",
       "      <td>Musical</td>\n",
       "    </tr>\n",
       "    <tr>\n",
       "      <th>6</th>\n",
       "      <td>Drama</td>\n",
       "      <td>Romance</td>\n",
       "      <td>War</td>\n",
       "    </tr>\n",
       "    <tr>\n",
       "      <th>8</th>\n",
       "      <td>Horror</td>\n",
       "      <td>Mystery</td>\n",
       "      <td>Thriller</td>\n",
       "    </tr>\n",
       "    <tr>\n",
       "      <th>9</th>\n",
       "      <td>Action</td>\n",
       "      <td>Crime</td>\n",
       "      <td>Thriller</td>\n",
       "    </tr>\n",
       "    <tr>\n",
       "      <th>10</th>\n",
       "      <td>Drama</td>\n",
       "      <td>None</td>\n",
       "      <td>None</td>\n",
       "    </tr>\n",
       "    <tr>\n",
       "      <th>11</th>\n",
       "      <td>Horror</td>\n",
       "      <td>None</td>\n",
       "      <td>None</td>\n",
       "    </tr>\n",
       "    <tr>\n",
       "      <th>12</th>\n",
       "      <td>Horror</td>\n",
       "      <td>Romance</td>\n",
       "      <td>Thriller</td>\n",
       "    </tr>\n",
       "    <tr>\n",
       "      <th>13</th>\n",
       "      <td>Comedy</td>\n",
       "      <td>Drama</td>\n",
       "      <td>Romance</td>\n",
       "    </tr>\n",
       "    <tr>\n",
       "      <th>15</th>\n",
       "      <td>Comedy</td>\n",
       "      <td>Drama</td>\n",
       "      <td>None</td>\n",
       "    </tr>\n",
       "  </tbody>\n",
       "</table>\n",
       "</div>"
      ],
      "text/plain": [
       "         0        1         2\n",
       "1    Drama     None      None\n",
       "3   Comedy  Romance      None\n",
       "5   Comedy    Drama   Musical\n",
       "6    Drama  Romance       War\n",
       "8   Horror  Mystery  Thriller\n",
       "9   Action    Crime  Thriller\n",
       "10   Drama     None      None\n",
       "11  Horror     None      None\n",
       "12  Horror  Romance  Thriller\n",
       "13  Comedy    Drama   Romance\n",
       "15  Comedy    Drama      None"
      ]
     },
     "execution_count": 85,
     "metadata": {},
     "output_type": "execute_result"
    }
   ],
   "source": [
    "genres.head(11)"
   ]
  },
  {
   "cell_type": "code",
   "execution_count": 86,
   "id": "1f294c5b",
   "metadata": {},
   "outputs": [
    {
     "name": "stdout",
     "output_type": "stream",
     "text": [
      "Action: 1686\n",
      "Adventure: 277\n",
      "Animation: 40\n",
      "Biography: 115\n",
      "Comedy: 1344\n",
      "Crime: 875\n",
      "Documentary: 48\n",
      "Drama: 3796\n",
      "Family: 416\n",
      "Fantasy: 146\n",
      "History: 99\n",
      "Horror: 202\n",
      "Music: 53\n",
      "Musical: 412\n",
      "Mystery: 304\n",
      "News: 1\n",
      "Romance: 1380\n",
      "Sci-Fi: 32\n",
      "Sport: 40\n",
      "Thriller: 679\n",
      "War: 33\n",
      "Western: 1\n"
     ]
    }
   ],
   "source": [
    "genre_counts = {}\n",
    "for genre in genres.values.flatten():\n",
    "    if genre is not None:\n",
    "        if genre in genre_counts:\n",
    "            genre_counts[genre] += 1\n",
    "        else:\n",
    "            genre_counts[genre] = 1\n",
    "\n",
    "genereCounts = {genre: count for genre, count in sorted(genre_counts.items())}\n",
    "for genre, count in genereCounts.items():\n",
    "    print(f\"{genre}: {count}\")"
   ]
  },
  {
   "cell_type": "code",
   "execution_count": 87,
   "id": "4163b659",
   "metadata": {},
   "outputs": [],
   "source": [
    "genresPie = movie_file['Genre'].value_counts()"
   ]
  },
  {
   "cell_type": "code",
   "execution_count": 88,
   "id": "3ba9f881",
   "metadata": {},
   "outputs": [
    {
     "data": {
      "text/plain": [
       "Genre\n",
       "Drama                     844\n",
       "Drama, Romance            332\n",
       "Action, Crime, Drama      329\n",
       "Action, Drama             206\n",
       "Comedy, Drama             205\n",
       "Comedy, Drama, Romance    188\n",
       "Comedy                    187\n",
       "Action                    170\n",
       "Drama, Family             160\n",
       "Romance                   126\n",
       "Action, Comedy, Drama     118\n",
       "Name: count, dtype: int64"
      ]
     },
     "execution_count": 88,
     "metadata": {},
     "output_type": "execute_result"
    }
   ],
   "source": [
    "genresPie.head(11)"
   ]
  },
  {
   "cell_type": "code",
   "execution_count": 89,
   "id": "f9b2dfea",
   "metadata": {},
   "outputs": [],
   "source": [
    "genrePie = pd.DataFrame(list(genresPie.items()))\n",
    "genrePie = genrePie.rename(columns={0: 'Genre', 1: 'Count'})"
   ]
  },
  {
   "cell_type": "code",
   "execution_count": 90,
   "id": "6caef4fe",
   "metadata": {},
   "outputs": [
    {
     "data": {
      "text/html": [
       "<div>\n",
       "<style scoped>\n",
       "    .dataframe tbody tr th:only-of-type {\n",
       "        vertical-align: middle;\n",
       "    }\n",
       "\n",
       "    .dataframe tbody tr th {\n",
       "        vertical-align: top;\n",
       "    }\n",
       "\n",
       "    .dataframe thead th {\n",
       "        text-align: right;\n",
       "    }\n",
       "</style>\n",
       "<table border=\"1\" class=\"dataframe\">\n",
       "  <thead>\n",
       "    <tr style=\"text-align: right;\">\n",
       "      <th></th>\n",
       "      <th>Genre</th>\n",
       "      <th>Count</th>\n",
       "    </tr>\n",
       "  </thead>\n",
       "  <tbody>\n",
       "    <tr>\n",
       "      <th>0</th>\n",
       "      <td>Drama</td>\n",
       "      <td>844</td>\n",
       "    </tr>\n",
       "    <tr>\n",
       "      <th>1</th>\n",
       "      <td>Drama, Romance</td>\n",
       "      <td>332</td>\n",
       "    </tr>\n",
       "    <tr>\n",
       "      <th>2</th>\n",
       "      <td>Action, Crime, Drama</td>\n",
       "      <td>329</td>\n",
       "    </tr>\n",
       "    <tr>\n",
       "      <th>3</th>\n",
       "      <td>Action, Drama</td>\n",
       "      <td>206</td>\n",
       "    </tr>\n",
       "    <tr>\n",
       "      <th>4</th>\n",
       "      <td>Comedy, Drama</td>\n",
       "      <td>205</td>\n",
       "    </tr>\n",
       "    <tr>\n",
       "      <th>5</th>\n",
       "      <td>Comedy, Drama, Romance</td>\n",
       "      <td>188</td>\n",
       "    </tr>\n",
       "    <tr>\n",
       "      <th>6</th>\n",
       "      <td>Comedy</td>\n",
       "      <td>187</td>\n",
       "    </tr>\n",
       "    <tr>\n",
       "      <th>7</th>\n",
       "      <td>Action</td>\n",
       "      <td>170</td>\n",
       "    </tr>\n",
       "    <tr>\n",
       "      <th>8</th>\n",
       "      <td>Drama, Family</td>\n",
       "      <td>160</td>\n",
       "    </tr>\n",
       "    <tr>\n",
       "      <th>9</th>\n",
       "      <td>Romance</td>\n",
       "      <td>126</td>\n",
       "    </tr>\n",
       "    <tr>\n",
       "      <th>10</th>\n",
       "      <td>Action, Comedy, Drama</td>\n",
       "      <td>118</td>\n",
       "    </tr>\n",
       "  </tbody>\n",
       "</table>\n",
       "</div>"
      ],
      "text/plain": [
       "                     Genre  Count\n",
       "0                    Drama    844\n",
       "1           Drama, Romance    332\n",
       "2     Action, Crime, Drama    329\n",
       "3            Action, Drama    206\n",
       "4            Comedy, Drama    205\n",
       "5   Comedy, Drama, Romance    188\n",
       "6                   Comedy    187\n",
       "7                   Action    170\n",
       "8            Drama, Family    160\n",
       "9                  Romance    126\n",
       "10   Action, Comedy, Drama    118"
      ]
     },
     "execution_count": 90,
     "metadata": {},
     "output_type": "execute_result"
    }
   ],
   "source": [
    "genrePie.head(11)"
   ]
  },
  {
   "cell_type": "code",
   "execution_count": 91,
   "id": "aa0b662a",
   "metadata": {},
   "outputs": [],
   "source": [
    "movie_file['Votes'] = movie_file['Votes'].str.replace(',', '').astype(int)"
   ]
  },
  {
   "cell_type": "code",
   "execution_count": 92,
   "id": "672193fb",
   "metadata": {},
   "outputs": [
    {
     "data": {
      "text/plain": [
       "1        8\n",
       "3       35\n",
       "5      827\n",
       "6     1086\n",
       "8      326\n",
       "9       11\n",
       "10      17\n",
       "11      59\n",
       "12     983\n",
       "13     512\n",
       "15    6619\n",
       "Name: Votes, dtype: int32"
      ]
     },
     "execution_count": 92,
     "metadata": {},
     "output_type": "execute_result"
    }
   ],
   "source": [
    "movie_file['Votes'].head(11)"
   ]
  },
  {
   "cell_type": "code",
   "execution_count": 93,
   "id": "251f33a2",
   "metadata": {},
   "outputs": [
    {
     "data": {
      "text/plain": [
       "2431"
      ]
     },
     "execution_count": 93,
     "metadata": {},
     "output_type": "execute_result"
    }
   ],
   "source": [
    "movie_file[\"Director\"].nunique()"
   ]
  },
  {
   "cell_type": "code",
   "execution_count": 94,
   "id": "bbb4a3f8",
   "metadata": {},
   "outputs": [],
   "source": [
    "directors = movie_file[\"Director\"].value_counts()"
   ]
  },
  {
   "cell_type": "code",
   "execution_count": 95,
   "id": "81baadbb",
   "metadata": {},
   "outputs": [
    {
     "data": {
      "text/plain": [
       "Director\n",
       "David Dhawan            41\n",
       "Mahesh Bhatt            39\n",
       "Ram Gopal Varma         33\n",
       "Hrishikesh Mukherjee    33\n",
       "Shakti Samanta          33\n",
       "Vikram Bhatt            30\n",
       "Priyadarshan            29\n",
       "Basu Chatterjee         23\n",
       "Rama Rao Tatineni       23\n",
       "Shyam Benegal           22\n",
       "Yash Chopra             22\n",
       "Name: count, dtype: int64"
      ]
     },
     "execution_count": 95,
     "metadata": {},
     "output_type": "execute_result"
    }
   ],
   "source": [
    "directors.head(11)"
   ]
  },
  {
   "cell_type": "code",
   "execution_count": 96,
   "id": "aa84c721",
   "metadata": {},
   "outputs": [],
   "source": [
    "actors = pd.concat([movie_file['Actor 1'], movie_file['Actor 2'], movie_file['Actor 3']]).dropna().value_counts()"
   ]
  },
  {
   "cell_type": "code",
   "execution_count": 97,
   "id": "683d1a85",
   "metadata": {},
   "outputs": [
    {
     "data": {
      "text/plain": [
       "Mithun Chakraborty    160\n",
       "Amitabh Bachchan      148\n",
       "Dharmendra            146\n",
       "Ashok Kumar           124\n",
       "Akshay Kumar          120\n",
       "Shashi Kapoor         117\n",
       "Jeetendra             116\n",
       "Sanjay Dutt           101\n",
       "Rekha                  92\n",
       "Ajay Devgn             92\n",
       "Govinda                90\n",
       "Name: count, dtype: int64"
      ]
     },
     "execution_count": 97,
     "metadata": {},
     "output_type": "execute_result"
    }
   ],
   "source": [
    "actors.head(11)"
   ]
  },
  {
   "cell_type": "code",
   "execution_count": 98,
   "id": "1ed25392",
   "metadata": {},
   "outputs": [],
   "source": [
    "sb.set(style = \"darkgrid\", font = \"Calibri\")"
   ]
  },
  {
   "cell_type": "code",
   "execution_count": 99,
   "id": "2849db32",
   "metadata": {},
   "outputs": [
    {
     "name": "stderr",
     "output_type": "stream",
     "text": [
      "C:\\ProgramData\\anaconda3\\Lib\\site-packages\\seaborn\\_oldcore.py:1119: FutureWarning: use_inf_as_na option is deprecated and will be removed in a future version. Convert inf values to NaN before operating instead.\n",
      "  with pd.option_context('mode.use_inf_as_na', True):\n",
      "C:\\ProgramData\\anaconda3\\Lib\\site-packages\\seaborn\\_oldcore.py:1119: FutureWarning: use_inf_as_na option is deprecated and will be removed in a future version. Convert inf values to NaN before operating instead.\n",
      "  with pd.option_context('mode.use_inf_as_na', True):\n"
     ]
    },
    {
     "ename": "TypeError",
     "evalue": "can only concatenate str (not \"int\") to str",
     "output_type": "error",
     "traceback": [
      "\u001b[1;31m---------------------------------------------------------------------------\u001b[0m",
      "\u001b[1;31mTypeError\u001b[0m                                 Traceback (most recent call last)",
      "Cell \u001b[1;32mIn[99], line 2\u001b[0m\n\u001b[0;32m      1\u001b[0m ax \u001b[38;5;241m=\u001b[39m sb\u001b[38;5;241m.\u001b[39mlineplot(data\u001b[38;5;241m=\u001b[39mmovie_file[\u001b[38;5;124m'\u001b[39m\u001b[38;5;124mYear\u001b[39m\u001b[38;5;124m'\u001b[39m]\u001b[38;5;241m.\u001b[39mvalue_counts()\u001b[38;5;241m.\u001b[39msort_index())\n\u001b[1;32m----> 2\u001b[0m darkgrid_positions \u001b[38;5;241m=\u001b[39m \u001b[38;5;28mrange\u001b[39m(\u001b[38;5;28mmin\u001b[39m(movie_file[\u001b[38;5;124m'\u001b[39m\u001b[38;5;124mYear\u001b[39m\u001b[38;5;124m'\u001b[39m]), \u001b[38;5;28mmax\u001b[39m(movie_file[\u001b[38;5;124m'\u001b[39m\u001b[38;5;124mYear\u001b[39m\u001b[38;5;124m'\u001b[39m]) \u001b[38;5;241m+\u001b[39m \u001b[38;5;241m1\u001b[39m, \u001b[38;5;241m5\u001b[39m)\n\u001b[0;32m      3\u001b[0m ax\u001b[38;5;241m.\u001b[39mset_title(\u001b[38;5;124m\"\u001b[39m\u001b[38;5;124mAnnual Movie Release Counts Over Time\u001b[39m\u001b[38;5;124m\"\u001b[39m)\n\u001b[0;32m      4\u001b[0m ax\u001b[38;5;241m.\u001b[39mset_darkgrid(darkgrid_positions)\n",
      "\u001b[1;31mTypeError\u001b[0m: can only concatenate str (not \"int\") to str"
     ]
    },
    {
     "data": {
      "image/png": "[encoded data removed]",
      "text/plain": [
       "<Figure size 640x480 with 1 Axes>"
      ]
     },
     "metadata": {},
     "output_type": "display_data"
    }
   ],
   "source": [
    "ax = sb.lineplot(data=movie_file['Year'].value_counts().sort_index())\n",
    "darkgrid_positions = range(min(movie_file['Year']), max(movie_file['Year']) + 1, 5)\n",
    "ax.set_title(\"Annual Movie Release Counts Over Time\")\n",
    "ax.set_darkgrid(darkgrid_positions)\n",
    "ax.set_darkgridlabels(darkgrid_positions, rotation = 90)\n",
    "ax.set_xlabel(\"Years\")\n",
    "ax.set_ylabel(\"Count\")\n",
    "mpl.show()"
   ]
  },
  {
   "cell_type": "code",
   "execution_count": null,
   "id": "a242b944",
   "metadata": {},
   "outputs": [],
   "source": [
    "ax = sb.boxplot(data=movie_file, y='Year')\n",
    "ax.set_ylabel('Year')\n",
    "ax.set_title('Box Plot of Year')\n",
    "mpl.show()"
   ]
  },
  {
   "cell_type": "code",
   "execution_count": null,
   "id": "3d3393a6",
   "metadata": {},
   "outputs": [],
   "source": [
    "ax = sb.lineplot(data=movie_file.groupby('Year')['Duration'].mean().reset_index(), x='Year', y='Duration')\n",
    "darkgrid_positions = range(min(movie_file['Year']), max(movie_file['Year']) + 1, 5)\n",
    "ax.set_title(\"Average Movie Duration Trends Over the Years\")\n",
    "ax.set_drakgrid(darkgrid_positions)\n",
    "ax.set_darkgridlabels(tick_positions, rotation = 90)\n",
    "ax.set_xlabel(\"Years\")\n",
    "ax.set_ylabel('Average Duration(in minutes)')\n",
    "mpl.show()"
   ]
  },
  {
   "cell_type": "code",
   "execution_count": null,
   "id": "7806d5b6",
   "metadata": {},
   "outputs": [],
   "source": [
    "ax = sb.boxplot(data=movie_file, y='Duration')\n",
    "ax.set_title(\"Box Plot of Average Movie Durations\")\n",
    "ax.set_ylabel('Average Duration(in minutes)')\n",
    "mpl.show()"
   ]
  },
  {
   "cell_type": "code",
   "execution_count": null,
   "id": "aaa74991",
   "metadata": {},
   "outputs": [],
   "source": [
    "Q1 = movie_file['Duration'].quantile(0.25)\n",
    "Q3 = movie_file['Duration'].quantile(0.75)\n",
    "IQR = Q3 - Q1\n",
    "lower_bound = Q1 - 1.5 * IQR\n",
    "upper_bound = Q3 + 1.5 * IQR\n",
    "df = movie_file[(movie_file['Duration'] >= lower_bound) & (movie_file['Duration'] <= upper_bound)]\n",
    "df.head(11)"
   ]
  },
  {
   "cell_type": "code",
   "execution_count": null,
   "id": "908e6d74",
   "metadata": {},
   "outputs": [],
   "source": [
    "genre_counts = movie_file['Genre'].str.split(', ', expand=True).stack().value_counts()\n",
    "\n",
    "wordcloud = WordCloud(width=950, height=550, background_color='white').generate_from_frequencies(genre_counts)\n",
    "\n",
    "mpl.figure(figsize=(16, 6))\n",
    "mpl.imshow(wordcloud, interpolation='bilinear')\n",
    "mpl.axis('on')\n",
    "mpl.title('Genre Word Cloud')\n",
    "mpl.show()"
   ]
  },
  {
   "cell_type": "code",
   "execution_count": null,
   "id": "6ca79c6c",
   "metadata": {},
   "outputs": [],
   "source": [
    "genreLabels = sorted(genereCounts.keys())\n",
    "genreCounts = sorted(genereCounts.values())\n",
    "ax = sb.barplot(x = genreLabels, y = genreCounts)\n",
    "ax.set_xdarkgridlabels(labels=genreLabels, rotation = 90)\n",
    "mpl.show()"
   ]
  },
  {
   "cell_type": "code",
   "execution_count": null,
   "id": "a6323b90",
   "metadata": {},
   "outputs": [],
   "source": [
    "genrePie.loc[genrePie['Count'] < 50, 'Genre'] = 'Other'\n",
    "ax = px.pie(genrePie, values='Count', names='Genre', title='More than one Genre of movies in Indian Cinema')\n",
    "ax.show()"
   ]
  },
  {
   "cell_type": "code",
   "execution_count": null,
   "id": "62b6f02c",
   "metadata": {},
   "outputs": [],
   "source": [
    "ax = sb.histplot(data = movie_file, x = \"Rating\", bins = 20, kde = True)\n",
    "ax.set_xlabel('Rating')\n",
    "ax.set_ylabel('Frequency')\n",
    "ax.set_title('Distribution of Movie Ratings')\n",
    "mpl.show()"
   ]
  },
  {
   "cell_type": "code",
   "execution_count": null,
   "id": "4c7bdc57",
   "metadata": {},
   "outputs": [],
   "source": [
    "ax = sb.boxplot(data=movie_file, y='Rating')\n",
    "ax.set_ylabel('Rating')\n",
    "ax.set_title('Box Plot of Movie Ratings')\n",
    "mpl.show()"
   ]
  },
  {
   "cell_type": "code",
   "execution_count": null,
   "id": "28096036",
   "metadata": {},
   "outputs": [],
   "source": [
    "Q1 = movie_file['Rating'].quantile(0.25)\n",
    "Q3 = movie_file['Rating'].quantile(0.75)\n",
    "IQR = Q3 - Q1\n",
    "lower_bound = Q1 - 1.5 * IQR\n",
    "upper_bound = Q3 + 1.5 * IQR\n",
    "movie_file = movie_file[(movie_file['Rating'] >= lower_bound) & (movie_file['Rating'] <= upper_bound)]\n",
    "movie_file.head(16)"
   ]
  },
  {
   "cell_type": "code",
   "execution_count": null,
   "id": "08944bee",
   "metadata": {},
   "outputs": [],
   "source": [
    "rating_votes = movie_file.groupby('Rating')['Votes'].sum().reset_index()\n",
    "mpl.figure(figsize=(10, 6))\n",
    "ax_line_seaborn = sb.lineplot(data=rating_votes, x='Rating', y='Votes', marker='o')\n",
    "ax_line_seaborn.set_xlabel('Rating')\n",
    "ax_line_seaborn.set_ylabel('Total Votes')\n",
    "ax_line_seaborn.set_title('Total Votes per Rating')\n",
    "mpl.show()"
   ]
  },
  {
   "cell_type": "code",
   "execution_count": null,
   "id": "08f99f84",
   "metadata": {},
   "outputs": [],
   "source": [
    "mpl.figure(figsize=(10, 6))\n",
    "ax = sb.barplot(x=directors.head(20).index, y=directors.head(20).values, palette='viridis')\n",
    "ax.set_xlabel('Directors')\n",
    "ax.set_ylabel('Frequency of Movies')\n",
    "ax.set_title('Top 20 Directors by Frequency of Movies')\n",
    "ax.set_darkgrid(ax.get_xticklabels(), rotation=90)\n",
    "mpl.show(11)"
   ]
  },
  {
   "cell_type": "code",
   "execution_count": null,
   "id": "f31ebf13",
   "metadata": {},
   "outputs": [],
   "source": [
    "mpl.figure(figsize=(10, 6))\n",
    "ax = sb.barplot(x=actors.head(20).index, y=actors.head(20).values, palette='viridis')\n",
    "ax.set_xlabel('Actors')\n",
    "ax.set_ylabel('Total Number of Movies')\n",
    "ax.set_title('Top 20 Actors with Total Number of Movies')\n",
    "ax.set_xticklabels(ax.get_xticklabels(), rotation=90)\n",
    "mpl.show()"
   ]
  },
  {
   "cell_type": "code",
   "execution_count": null,
   "id": "623b19bf",
   "metadata": {},
   "outputs": [],
   "source": [
    "movie_file[\"Actor\"] = movie_file['Actor 1'] + ', ' + movie_file['Actor 2'] + ', ' + movie_file['Actor 3']\n",
    "movie_file[\"Directors\"] = movie_file['Director'].astype('category').cat.codes\n",
    "movie_file[\"Genres\"] = movie_file['Genre'].astype('category').cat.codes\n",
    "movie_file[\"Actors\"] = movie_file['Actor'].astype('category').cat.codes"
   ]
  },
  {
   "cell_type": "code",
   "execution_count": null,
   "id": "7a04cbef",
   "metadata": {},
   "outputs": [],
   "source": [
    "movie_file.head(16)"
   ]
  },
  {
   "cell_type": "code",
   "execution_count": null,
   "id": "f8696e32",
   "metadata": {},
   "outputs": [],
   "source": [
    "ax = sb.boxplot(data=movie_file, y='Genres')\n",
    "ax.set_ylabel('Genres')\n",
    "ax.set_title('Box Plot of Genres')\n",
    "mpl.show()"
   ]
  },
  {
   "cell_type": "code",
   "execution_count": null,
   "id": "bbe1c581",
   "metadata": {},
   "outputs": [],
   "source": [
    "Q1 = movie_file['Genres'].quantile(0.25)\n",
    "Q3 = movie_file['Genres'].quantile(0.75)\n",
    "IQR = Q3 - Q1\n",
    "lower_bound = Q1 - 1.5 * IQR\n",
    "upper_bound = Q3 + 1.5 * IQR\n",
    "movie_file = movie_file[(movie_file['Genres'] >= lower_bound) & (movie_file['Genres'] <= upper_bound)]"
   ]
  },
  {
   "cell_type": "code",
   "execution_count": null,
   "id": "9f7ee85e",
   "metadata": {},
   "outputs": [],
   "source": [
    "movie_file.head(11)"
   ]
  },
  {
   "cell_type": "code",
   "execution_count": null,
   "id": "e89ef6ce",
   "metadata": {},
   "outputs": [],
   "source": [
    "ax = sb.boxplot(data=movie_file, y='Directors')\n",
    "ax.set_ylabel('Directors')\n",
    "ax.set_title('Box Plot of Directors')\n",
    "mpl.show()"
   ]
  },
  {
   "cell_type": "code",
   "execution_count": null,
   "id": "04bc55c8",
   "metadata": {},
   "outputs": [],
   "source": [
    "Q1 = movie_file['Directors'].quantile(0.25)\n",
    "Q3 = movie_file['Directors'].quantile(0.75)\n",
    "IQR = Q3 - Q1\n",
    "lower_bound = Q1 - 1.5 * IQR\n",
    "upper_bound = Q3 + 1.5 * IQR\n",
    "movie_file = movie_file[(movie_file['Directors'] >= lower_bound) & (movie_file['Directors'] <= upper_bound)]"
   ]
  },
  {
   "cell_type": "code",
   "execution_count": null,
   "id": "3f825728",
   "metadata": {},
   "outputs": [],
   "source": [
    "movie_file.head(11)"
   ]
  },
  {
   "cell_type": "code",
   "execution_count": null,
   "id": "df79b1cd",
   "metadata": {},
   "outputs": [],
   "source": [
    "ax = sb.boxplot(data=movie_file, y='Actors')\n",
    "ax.set_ylabel('Actors')\n",
    "ax.set_title('Box Plot of Actors')\n",
    "mpl.show()\n"
   ]
  },
  {
   "cell_type": "code",
   "execution_count": null,
   "id": "6ddd3b7f",
   "metadata": {},
   "outputs": [],
   "source": [
    "Q1 = movie_file['Actors'].quantile(0.25)\n",
    "Q3 = movie_file['Actors'].quantile(0.75)\n",
    "IQR = Q3 - Q1\n",
    "lower_bound = Q1 - 1.5 * IQR\n",
    "upper_bound = Q3 + 1.5 * IQR\n",
    "movie_file = movie_file[(movie_file['Actors'] >= lower_bound) & (movie_file['Actors'] <= upper_bound)]"
   ]
  },
  {
   "cell_type": "code",
   "execution_count": null,
   "id": "3fa19335",
   "metadata": {},
   "outputs": [],
   "source": [
    "movie_file.head(11)"
   ]
  },
  {
   "cell_type": "code",
   "execution_count": null,
   "id": "ba4dd3c6",
   "metadata": {},
   "outputs": [],
   "source": [
    "Input = movie_file.drop(['Name', 'Genre', 'Rating', 'Director', 'Actor 1', 'Actor 2', 'Actor 3', 'Actor'], axis=1)\n",
    "Output = movie_file['Rating']"
   ]
  },
  {
   "cell_type": "code",
   "execution_count": null,
   "id": "fefa4972",
   "metadata": {},
   "outputs": [],
   "source": [
    "Input.head(16)"
   ]
  },
  {
   "cell_type": "code",
   "execution_count": null,
   "id": "e6a2e58f",
   "metadata": {},
   "outputs": [],
   "source": [
    "Output.head(16)"
   ]
  },
  {
   "cell_type": "code",
   "execution_count": null,
   "id": "6f6398ba",
   "metadata": {},
   "outputs": [],
   "source": [
    "x_train, x_test, y_train, y_test = train_test_split(Input, Output, test_size = 0.2, random_state = 1)"
   ]
  },
  {
   "cell_type": "code",
   "execution_count": null,
   "id": "fa21a4a5-6c45-4448-94e7-6615a1e82263",
   "metadata": {},
   "outputs": [],
   "source": [
    "#pip install xgboost"
   ]
  },
  {
   "cell_type": "code",
   "execution_count": null,
   "id": "9165799b-5a00-4357-bf0d-cc4dc11b3b81",
   "metadata": {},
   "outputs": [],
   "source": [
    "#pip install lightgbm"
   ]
  },
  {
   "cell_type": "code",
   "execution_count": null,
   "id": "dcf2a6b1-560a-409d-8717-d268da290985",
   "metadata": {},
   "outputs": [],
   "source": [
    "#pip install catboost"
   ]
  },
  {
   "cell_type": "code",
   "execution_count": null,
   "id": "85e84e65",
   "metadata": {},
   "outputs": [],
   "source": [
    "from sklearn.linear_model import LinearRegression\n",
    "from sklearn.metrics import mean_squared_error, r2_score as score\n",
    "from sklearn.ensemble import RandomForestRegressor, GradientBoostingRegressor\n",
    "from sklearn.tree import DecisionTreeRegressor\n",
    "from xgboost import XGBRegressor\n",
    "from lightgbm import LGBMRegressor\n",
    "from catboost import CatBoostRegressor\n",
    "from sklearn.neighbors import KNeighborsRegressor\n",
    "from sklearn.svm import SVR"
   ]
  },
  {
   "cell_type": "code",
   "execution_count": null,
   "id": "e2e360d9-4732-4a8e-a908-49018bb60ee6",
   "metadata": {},
   "outputs": [],
   "source": []
  },
  {
   "cell_type": "code",
   "execution_count": null,
   "id": "e91f8781-7b8d-492b-a15c-7c1c5ceec153",
   "metadata": {},
   "outputs": [],
   "source": []
  },
  {
   "cell_type": "code",
   "execution_count": null,
   "id": "502c3535",
   "metadata": {},
   "outputs": [],
   "source": [
    "def evaluate_model(y_true, y_pred, model_name):\n",
    "    print(\"Model: \", model_name)\n",
    "    print(\"Accuracy = {:0.2f}%\".format(score(y_true, y_pred)*1000))\n",
    "    print(\"Mean Squared Error = {:0.2f}\\n\".format(mean_squared_error(y_true, y_pred, squared=False)))\n",
    "    return round(score(y_true, y_pred)*1000, 2)"
   ]
  },
  {
   "cell_type": "code",
   "execution_count": null,
   "id": "2f38833c",
   "metadata": {},
   "outputs": [],
   "source": [
    "LR = LinearRegression()\n",
    "LR.fit(x_train, y_train)\n",
    "lr_preds = LR.predict(x_test)\n",
    "\n",
    "RFR = RandomForestRegressor(n_estimators=100, random_state=1)\n",
    "RFR.fit(x_train, y_train)\n",
    "rf_preds = RFR.predict(x_test)\n",
    "\n",
    "DTR = DecisionTreeRegressor(random_state=1)\n",
    "DTR.fit(x_train, y_train)\n",
    "dt_preds = DTR.predict(x_test)\n",
    "\n",
    "XGBR = XGBRegressor(n_estimators=100, random_state=1)\n",
    "XGBR.fit(x_train, y_train)\n",
    "xgb_preds = XGBR.predict(x_test)\n",
    "\n",
    "GBR = GradientBoostingRegressor(n_estimators=100, random_state=60)\n",
    "GBR.fit(x_train, y_train)\n",
    "gb_preds = GBR.predict(x_test)\n",
    "\n",
    "LGBMR = LGBMRegressor(n_estimators=100, random_state=60)\n",
    "LGBMR.fit(x_train, y_train)\n",
    "lgbm_preds = LGBMR.predict(x_test)\n",
    "\n",
    "CBR = CatBoostRegressor(n_estimators=100, random_state=1, verbose=False)\n",
    "CBR.fit(x_train, y_train)\n",
    "catboost_preds = CBR.predict(x_test)\n",
    "\n",
    "KNR = KNeighborsRegressor(n_neighbors=5)\n",
    "KNR.fit(x_train, y_train)\n",
    "knn_preds = KNR.predict(x_test)"
   ]
  },
  {
   "cell_type": "code",
   "execution_count": null,
   "id": "093cc86a",
   "metadata": {},
   "outputs": [],
   "source": [
    "LRScore = evaluate_model(y_test, lr_preds, \"LINEAR REGRESSION\")\n",
    "RFScore = evaluate_model(y_test, rf_preds, \"RANDOM FOREST\")\n",
    "DTScore = evaluate_model(y_test, dt_preds, \"DECEISION TREE\")\n",
    "XGBScore = evaluate_model(y_test, xgb_preds, \"EXTENDED GRADIENT BOOSTING\")\n",
    "GBScore = evaluate_model(y_test, gb_preds, \"GRADIENT BOOSTING\")\n",
    "LGBScore = evaluate_model(y_test, lgbm_preds, \"LIGHT GRADIENT BOOSTING\")\n",
    "CBRScore = evaluate_model(y_test, catboost_preds, \"CAT BOOST\")\n",
    "KNNScore = evaluate_model(y_test, knn_preds, \"K NEAREST NEIGHBORS\")"
   ]
  },
  {
   "cell_type": "code",
   "execution_count": null,
   "id": "a90f7658",
   "metadata": {},
   "outputs": [],
   "source": [
    "models = pd.DataFrame(\n",
    "    {\n",
    "        \"MODELS\": [\"Linear Regression\", \"Random Forest\", \"Decision Tree\", \"Gradient Boosting\", \"Extended Gradient Boosting\", \"Light Gradient Boosting\", \"Cat Boosting\", \"K Nearest Neighbors\"],\n",
    "        \"SCORES\": [LRScore, RFScore, DTScore, GBScore, XGBScore, LGBScore, CBRScore, KNNScore]\n",
    "    }\n",
    ")\n",
    "models.sort_values(by='SCORES', ascending=False)"
   ]
  },
  {
   "cell_type": "code",
   "execution_count": null,
   "id": "ebd53e51-b3a4-41f5-be4d-e057ea258908",
   "metadata": {},
   "outputs": [],
   "source": []
  },
  {
   "cell_type": "code",
   "execution_count": null,
   "id": "ab968334-45e6-44a6-b2e8-9013fde0d23b",
   "metadata": {},
   "outputs": [],
   "source": []
  }
 ],
 "metadata": {
  "kernelspec": {
   "display_name": "Python 3 (ipykernel)",
   "language": "python",
   "name": "python3"
  },
  "language_info": {
   "codemirror_mode": {
    "name": "ipython",
    "version": 3
   },
   "file_extension": ".py",
   "mimetype": "text/x-python",
   "name": "python",
   "nbconvert_exporter": "python",
   "pygments_lexer": "ipython3",
   "version": "3.11.7"
  }
 },
 "nbformat": 4,
 "nbformat_minor": 5
}
